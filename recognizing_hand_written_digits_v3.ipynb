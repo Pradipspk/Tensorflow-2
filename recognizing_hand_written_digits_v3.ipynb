{
 "cells": [
  {
   "cell_type": "markdown",
   "metadata": {},
   "source": [
    "Now we decide to randomlt drop - with dropout probability - some of the values propaged inside out internal dense network of hiddne laters duting tranining.\n",
    "It is onr of the type of regulaization technique"
   ]
  },
  {
   "cell_type": "code",
   "execution_count": 2,
   "metadata": {},
   "outputs": [],
   "source": [
    "import tensorflow as tf\n",
    "from tensorflow import keras\n"
   ]
  },
  {
   "cell_type": "code",
   "execution_count": 3,
   "metadata": {},
   "outputs": [],
   "source": [
    "import numpy as np"
   ]
  },
  {
   "cell_type": "code",
   "execution_count": 4,
   "metadata": {},
   "outputs": [],
   "source": [
    "EPOCHS = 20\n",
    "BATCH_SIZE = 128\n",
    "NB_CLASSES =10\n",
    "N_HIDDEN = 128\n",
    "VALIDATION_SPLIT = 0.2\n",
    "\n",
    "DROPOUT = 0.3"
   ]
  },
  {
   "cell_type": "code",
   "execution_count": 5,
   "metadata": {},
   "outputs": [],
   "source": [
    "mnist = keras.datasets.mnist\n",
    "(X_train, Y_train),(X_test,  Y_test) =mnist.load_data()"
   ]
  },
  {
   "cell_type": "code",
   "execution_count": 6,
   "metadata": {},
   "outputs": [],
   "source": [
    "X_train = X_train.reshape(60000, 784)\n",
    "X_test = X_test.reshape(10000, 784)\n",
    "X_train = X_train.astype('float32')\n",
    "X_test = X_test.astype('float32')\n"
   ]
  },
  {
   "cell_type": "code",
   "execution_count": 7,
   "metadata": {},
   "outputs": [],
   "source": [
    "X_train, X_test = X_train /255.0 , X_test / 255.0"
   ]
  },
  {
   "cell_type": "code",
   "execution_count": 8,
   "metadata": {},
   "outputs": [],
   "source": [
    "Y_train = tf.keras.utils.to_categorical(Y_train, NB_CLASSES)\n",
    "Y_test = tf.keras.utils.to_categorical(Y_test, NB_CLASSES)\n"
   ]
  },
  {
   "cell_type": "markdown",
   "metadata": {},
   "source": [
    "Building the model"
   ]
  },
  {
   "cell_type": "code",
   "execution_count": 10,
   "metadata": {},
   "outputs": [],
   "source": [
    "model = tf.keras.models.Sequential()\n",
    "model.add(tf.keras.layers.Dense(N_HIDDEN,\n",
    "                               input_shape=(784,),\n",
    "                               name='dense_layer',\n",
    "                               activation='relu'))\n",
    "model.add(tf.keras.layers.Dropout(DROPOUT))\n",
    "model.add(tf.keras.layers.Dense(N_HIDDEN,\n",
    "                               name='dense_layer_2',\n",
    "                               activation='relu'))\n",
    "model.add(tf.keras.layers.Dropout(DROPOUT))\n",
    "model.add(tf.keras.layers.Dense(NB_CLASSES,\n",
    "         name='dense_layer_3',\n",
    "        activation='softmax'))"
   ]
  },
  {
   "cell_type": "code",
   "execution_count": 11,
   "metadata": {},
   "outputs": [
    {
     "name": "stdout",
     "output_type": "stream",
     "text": [
      "Model: \"sequential_1\"\n",
      "_________________________________________________________________\n",
      "Layer (type)                 Output Shape              Param #   \n",
      "=================================================================\n",
      "dense_layer (Dense)          (None, 128)               100480    \n",
      "_________________________________________________________________\n",
      "dropout (Dropout)            (None, 128)               0         \n",
      "_________________________________________________________________\n",
      "dense_layer_2 (Dense)        (None, 128)               16512     \n",
      "_________________________________________________________________\n",
      "dropout_1 (Dropout)          (None, 128)               0         \n",
      "_________________________________________________________________\n",
      "dense_layer_3 (Dense)        (None, 10)                1290      \n",
      "=================================================================\n",
      "Total params: 118,282\n",
      "Trainable params: 118,282\n",
      "Non-trainable params: 0\n",
      "_________________________________________________________________\n"
     ]
    }
   ],
   "source": [
    "model.summary()"
   ]
  },
  {
   "cell_type": "code",
   "execution_count": 12,
   "metadata": {},
   "outputs": [],
   "source": [
    "model.compile(optimizer='SGD',\n",
    "             loss='categorical_crossentropy',\n",
    "             metrics=['accuracy'])"
   ]
  },
  {
   "cell_type": "code",
   "execution_count": 13,
   "metadata": {},
   "outputs": [
    {
     "name": "stdout",
     "output_type": "stream",
     "text": [
      "Train on 48000 samples, validate on 12000 samples\n",
      "Epoch 1/20\n",
      "48000/48000 [==============================] - 4s 93us/sample - loss: 1.7370 - accuracy: 0.4468 - val_loss: 0.9288 - val_accuracy: 0.8172\n",
      "Epoch 2/20\n",
      "48000/48000 [==============================] - 4s 76us/sample - loss: 0.9407 - accuracy: 0.7124 - val_loss: 0.5374 - val_accuracy: 0.8680\n",
      "Epoch 3/20\n",
      "48000/48000 [==============================] - 3s 64us/sample - loss: 0.7025 - accuracy: 0.7847 - val_loss: 0.4217 - val_accuracy: 0.8897\n",
      "Epoch 4/20\n",
      "48000/48000 [==============================] - 3s 62us/sample - loss: 0.5959 - accuracy: 0.8210 - val_loss: 0.3682 - val_accuracy: 0.8986\n",
      "Epoch 5/20\n",
      "48000/48000 [==============================] - 3s 59us/sample - loss: 0.5354 - accuracy: 0.8413 - val_loss: 0.3364 - val_accuracy: 0.9062\n",
      "Epoch 6/20\n",
      "48000/48000 [==============================] - 3s 63us/sample - loss: 0.4877 - accuracy: 0.8543 - val_loss: 0.3129 - val_accuracy: 0.9102\n",
      "Epoch 7/20\n",
      "48000/48000 [==============================] - 3s 66us/sample - loss: 0.4621 - accuracy: 0.8623 - val_loss: 0.2944 - val_accuracy: 0.9147\n",
      "Epoch 8/20\n",
      "48000/48000 [==============================] - 3s 66us/sample - loss: 0.4307 - accuracy: 0.8741 - val_loss: 0.2787 - val_accuracy: 0.9179\n",
      "Epoch 9/20\n",
      "48000/48000 [==============================] - 3s 61us/sample - loss: 0.4115 - accuracy: 0.8793 - val_loss: 0.2680 - val_accuracy: 0.9204\n",
      "Epoch 10/20\n",
      "48000/48000 [==============================] - 3s 65us/sample - loss: 0.3917 - accuracy: 0.8851 - val_loss: 0.2565 - val_accuracy: 0.9238\n",
      "Epoch 11/20\n",
      "48000/48000 [==============================] - 3s 62us/sample - loss: 0.3751 - accuracy: 0.8902 - val_loss: 0.2477 - val_accuracy: 0.9265\n",
      "Epoch 12/20\n",
      "48000/48000 [==============================] - 3s 67us/sample - loss: 0.3625 - accuracy: 0.8938 - val_loss: 0.2385 - val_accuracy: 0.9293\n",
      "Epoch 13/20\n",
      "48000/48000 [==============================] - 3s 70us/sample - loss: 0.3490 - accuracy: 0.8977 - val_loss: 0.2311 - val_accuracy: 0.9320\n",
      "Epoch 14/20\n",
      "48000/48000 [==============================] - 3s 58us/sample - loss: 0.3382 - accuracy: 0.9026 - val_loss: 0.2249 - val_accuracy: 0.9327\n",
      "Epoch 15/20\n",
      "48000/48000 [==============================] - 3s 62us/sample - loss: 0.3279 - accuracy: 0.9046 - val_loss: 0.2185 - val_accuracy: 0.9344\n",
      "Epoch 16/20\n",
      "48000/48000 [==============================] - 3s 66us/sample - loss: 0.3190 - accuracy: 0.9068 - val_loss: 0.2123 - val_accuracy: 0.9383\n",
      "Epoch 17/20\n",
      "48000/48000 [==============================] - 4s 76us/sample - loss: 0.3097 - accuracy: 0.9085 - val_loss: 0.2064 - val_accuracy: 0.9402\n",
      "Epoch 18/20\n",
      "48000/48000 [==============================] - 3s 71us/sample - loss: 0.3015 - accuracy: 0.9113 - val_loss: 0.2016 - val_accuracy: 0.9419\n",
      "Epoch 19/20\n",
      "48000/48000 [==============================] - 3s 71us/sample - loss: 0.2943 - accuracy: 0.9138 - val_loss: 0.1970 - val_accuracy: 0.9437\n",
      "Epoch 20/20\n",
      "48000/48000 [==============================] - 3s 71us/sample - loss: 0.2884 - accuracy: 0.9157 - val_loss: 0.1943 - val_accuracy: 0.9442\n"
     ]
    },
    {
     "data": {
      "text/plain": [
       "<tensorflow.python.keras.callbacks.History at 0x7f87c00aea10>"
      ]
     },
     "execution_count": 13,
     "metadata": {},
     "output_type": "execute_result"
    }
   ],
   "source": [
    "model.fit(X_train, Y_train, epochs=EPOCHS,batch_size=BATCH_SIZE, validation_split=VALIDATION_SPLIT,\n",
    "         )"
   ]
  },
  {
   "cell_type": "code",
   "execution_count": 15,
   "metadata": {},
   "outputs": [
    {
     "name": "stdout",
     "output_type": "stream",
     "text": [
      "accuracy is: 0.9436\n"
     ]
    }
   ],
   "source": [
    "#evaluation the model\n",
    "\n",
    "test_loss, test_acc = model.evaluate(X_test, Y_test, verbose=False)\n",
    "\n",
    "print(\"accuracy is:\", test_acc)"
   ]
  },
  {
   "cell_type": "markdown",
   "metadata": {},
   "source": [
    "tetign wit different optimizers"
   ]
  },
  {
   "cell_type": "markdown",
   "metadata": {},
   "source": [
    "#testing with optimzier - Rmsprop \n",
    "it is just one line of code\n"
   ]
  },
  {
   "cell_type": "code",
   "execution_count": 17,
   "metadata": {},
   "outputs": [],
   "source": [
    "model.compile(optimizer='RMSProp',\n",
    "             loss='categorical_crossentropy',\n",
    "             metrics=['accuracy'])"
   ]
  },
  {
   "cell_type": "code",
   "execution_count": 18,
   "metadata": {},
   "outputs": [
    {
     "name": "stdout",
     "output_type": "stream",
     "text": [
      "Train on 48000 samples, validate on 12000 samples\n",
      "Epoch 1/10\n",
      "48000/48000 [==============================] - 5s 94us/sample - loss: 0.2542 - accuracy: 0.9253 - val_loss: 0.1398 - val_accuracy: 0.9589\n",
      "Epoch 2/10\n",
      "48000/48000 [==============================] - 3s 72us/sample - loss: 0.1869 - accuracy: 0.9450 - val_loss: 0.1206 - val_accuracy: 0.9663\n",
      "Epoch 3/10\n",
      "48000/48000 [==============================] - 4s 74us/sample - loss: 0.1563 - accuracy: 0.9531 - val_loss: 0.1070 - val_accuracy: 0.9688\n",
      "Epoch 4/10\n",
      "48000/48000 [==============================] - 3s 69us/sample - loss: 0.1361 - accuracy: 0.9610 - val_loss: 0.0982 - val_accuracy: 0.9723\n",
      "Epoch 5/10\n",
      "48000/48000 [==============================] - 3s 72us/sample - loss: 0.1221 - accuracy: 0.9640 - val_loss: 0.1026 - val_accuracy: 0.9728\n",
      "Epoch 6/10\n",
      "48000/48000 [==============================] - 4s 77us/sample - loss: 0.1151 - accuracy: 0.9673 - val_loss: 0.0984 - val_accuracy: 0.9737\n",
      "Epoch 7/10\n",
      "48000/48000 [==============================] - 4s 77us/sample - loss: 0.1089 - accuracy: 0.9680 - val_loss: 0.0982 - val_accuracy: 0.9743\n",
      "Epoch 8/10\n",
      "48000/48000 [==============================] - 3s 72us/sample - loss: 0.1003 - accuracy: 0.9698 - val_loss: 0.0978 - val_accuracy: 0.9754\n",
      "Epoch 9/10\n",
      "48000/48000 [==============================] - 4s 75us/sample - loss: 0.0932 - accuracy: 0.9728 - val_loss: 0.1031 - val_accuracy: 0.9749\n",
      "Epoch 10/10\n",
      "48000/48000 [==============================] - 4s 79us/sample - loss: 0.0922 - accuracy: 0.9733 - val_loss: 0.0963 - val_accuracy: 0.9761\n"
     ]
    },
    {
     "data": {
      "text/plain": [
       "<tensorflow.python.keras.callbacks.History at 0x7f87c19b6f90>"
      ]
     },
     "execution_count": 18,
     "metadata": {},
     "output_type": "execute_result"
    }
   ],
   "source": [
    "model.fit(X_train, Y_train, epochs=10,batch_size=BATCH_SIZE, validation_split=VALIDATION_SPLIT,\n",
    "         )"
   ]
  },
  {
   "cell_type": "markdown",
   "metadata": {},
   "source": [
    "you can compare the reesult of using SGD nad RMSProp, RMPS prop is certainly faster, we just traiend ofr 10 epochs "
   ]
  },
  {
   "cell_type": "markdown",
   "metadata": {},
   "source": [
    "Now lets try using Adam Optimizer"
   ]
  },
  {
   "cell_type": "code",
   "execution_count": 19,
   "metadata": {},
   "outputs": [],
   "source": [
    "model.compile(optimizer='Adam',\n",
    "             loss='categorical_crossentropy',\n",
    "             metrics=['accuracy'])\n"
   ]
  },
  {
   "cell_type": "code",
   "execution_count": 20,
   "metadata": {},
   "outputs": [
    {
     "name": "stdout",
     "output_type": "stream",
     "text": [
      "Train on 48000 samples, validate on 12000 samples\n",
      "Epoch 1/10\n",
      "48000/48000 [==============================] - 4s 86us/sample - loss: 0.0893 - accuracy: 0.9731 - val_loss: 0.0905 - val_accuracy: 0.9759\n",
      "Epoch 2/10\n",
      "48000/48000 [==============================] - 3s 64us/sample - loss: 0.0841 - accuracy: 0.9736 - val_loss: 0.0882 - val_accuracy: 0.9772\n",
      "Epoch 3/10\n",
      "48000/48000 [==============================] - 3s 68us/sample - loss: 0.0773 - accuracy: 0.9756 - val_loss: 0.0912 - val_accuracy: 0.9757\n",
      "Epoch 4/10\n",
      "48000/48000 [==============================] - 3s 64us/sample - loss: 0.0767 - accuracy: 0.9759 - val_loss: 0.0888 - val_accuracy: 0.9760\n",
      "Epoch 5/10\n",
      "48000/48000 [==============================] - 4s 76us/sample - loss: 0.0687 - accuracy: 0.9786 - val_loss: 0.0880 - val_accuracy: 0.9779\n",
      "Epoch 6/10\n",
      "48000/48000 [==============================] - 4s 79us/sample - loss: 0.0644 - accuracy: 0.9795 - val_loss: 0.0835 - val_accuracy: 0.9782\n",
      "Epoch 7/10\n",
      "48000/48000 [==============================] - 3s 71us/sample - loss: 0.0610 - accuracy: 0.9802 - val_loss: 0.0833 - val_accuracy: 0.9783\n",
      "Epoch 8/10\n",
      "48000/48000 [==============================] - 4s 78us/sample - loss: 0.0584 - accuracy: 0.9810 - val_loss: 0.0900 - val_accuracy: 0.9779\n",
      "Epoch 9/10\n",
      "48000/48000 [==============================] - 4s 82us/sample - loss: 0.0576 - accuracy: 0.9819 - val_loss: 0.0850 - val_accuracy: 0.9778\n",
      "Epoch 10/10\n",
      "48000/48000 [==============================] - 3s 67us/sample - loss: 0.0568 - accuracy: 0.9813 - val_loss: 0.0939 - val_accuracy: 0.9765\n"
     ]
    },
    {
     "data": {
      "text/plain": [
       "<tensorflow.python.keras.callbacks.History at 0x7f87c00d4b50>"
      ]
     },
     "execution_count": 20,
     "metadata": {},
     "output_type": "execute_result"
    }
   ],
   "source": [
    "model.fit(X_train, Y_train, epochs=10,batch_size=BATCH_SIZE, validation_split=VALIDATION_SPLIT,\n",
    "         )"
   ]
  },
  {
   "cell_type": "markdown",
   "metadata": {},
   "source": [
    "obviosuly adam seems better here\n",
    "you can check on more detais about diffrent optimizers.\n",
    "I wont be going here into the mathematcial details"
   ]
  },
  {
   "cell_type": "markdown",
   "metadata": {},
   "source": [
    "Next yo can try in your local machine follwoing to increare accuracy for better performance\n",
    "1. Increase the number of epochs\n",
    "2. Control the optimiser learning parameter\n",
    "3. Increasse the number of internal hiddn units\n",
    "4. Increase the size of batch computation\n",
    "5. Adding Regularization \n",
    "\n",
    "       from tf.keras.regularizers import l2, activity_l2\n",
    "       model.add(Dense(64, input_dim=64, \n",
    "       W_regularizer=l2(0.01),activity_regularizer=activity_l2(0.01)))\n",
    "       \n",
    "6. Use batch Normalization"
   ]
  },
  {
   "cell_type": "code",
   "execution_count": null,
   "metadata": {},
   "outputs": [],
   "source": []
  }
 ],
 "metadata": {
  "kernelspec": {
   "display_name": "Python 3",
   "language": "python",
   "name": "python3"
  },
  "language_info": {
   "codemirror_mode": {
    "name": "ipython",
    "version": 3
   },
   "file_extension": ".py",
   "mimetype": "text/x-python",
   "name": "python",
   "nbconvert_exporter": "python",
   "pygments_lexer": "ipython3",
   "version": "3.7.4"
  }
 },
 "nbformat": 4,
 "nbformat_minor": 2
}
