{
 "cells": [
  {
   "cell_type": "markdown",
   "metadata": {},
   "source": [
    "This is version 2 of of series in Tf- keras, on recognizing hadn written digits using MNIST dataset.\n",
    "\n",
    "In version 1, we had used a simple single layer Neural Nettwork, her wwe would like to improve the model by adding more hidden layers"
   ]
  },
  {
   "cell_type": "code",
   "execution_count": 2,
   "metadata": {},
   "outputs": [],
   "source": [
    "import tensorflow as tf\n",
    "from tensorflow import keras\n"
   ]
  },
  {
   "cell_type": "code",
   "execution_count": 22,
   "metadata": {},
   "outputs": [],
   "source": [
    "EPOCHS = 20\n",
    "BATCH_SIZE = 128\n",
    "NB_CLASSES =10\n",
    "N_HIDDEN = 128\n",
    "VALIDATION_SPLIT = 0.2\n",
    "\n"
   ]
  },
  {
   "cell_type": "markdown",
   "metadata": {},
   "source": [
    "Loading MNSIT dataset"
   ]
  },
  {
   "cell_type": "code",
   "execution_count": 23,
   "metadata": {},
   "outputs": [],
   "source": [
    "mnist = keras.datasets.mnist\n",
    "(X_train, Y_train),(X_test,  Y_test) =mnist.load_data()"
   ]
  },
  {
   "cell_type": "markdown",
   "metadata": {},
   "source": [
    "X_train is 60k rows of 28*28 values, we would reshae pe it to 60000, 784"
   ]
  },
  {
   "cell_type": "code",
   "execution_count": 24,
   "metadata": {},
   "outputs": [],
   "source": [
    "X_train = X_train.reshape(60000, 784)\n",
    "X_test = X_test.reshape(10000, 784)\n",
    "X_train = X_train.astype('float32')\n",
    "X_test = X_test.astype('float32')\n"
   ]
  },
  {
   "cell_type": "markdown",
   "metadata": {},
   "source": [
    "normalization"
   ]
  },
  {
   "cell_type": "code",
   "execution_count": 25,
   "metadata": {},
   "outputs": [],
   "source": [
    "X_train, X_test = X_train /255.0 , X_test / 255.0"
   ]
  },
  {
   "cell_type": "code",
   "execution_count": 26,
   "metadata": {},
   "outputs": [
    {
     "data": {
      "text/plain": [
       "array([5, 0, 4, ..., 5, 6, 8], dtype=uint8)"
      ]
     },
     "execution_count": 26,
     "metadata": {},
     "output_type": "execute_result"
    }
   ],
   "source": [
    "Y_train"
   ]
  },
  {
   "cell_type": "markdown",
   "metadata": {},
   "source": [
    "One hot representaiton"
   ]
  },
  {
   "cell_type": "code",
   "execution_count": 27,
   "metadata": {},
   "outputs": [],
   "source": [
    "Y_train = tf.keras.utils.to_categorical(Y_train, NB_CLASSES)\n",
    "Y_test = tf.keras.utils.to_categorical(Y_test, NB_CLASSES)\n"
   ]
  },
  {
   "cell_type": "markdown",
   "metadata": {},
   "source": [
    "Building the Model\n",
    "\n",
    "using keras sequentil api"
   ]
  },
  {
   "cell_type": "code",
   "execution_count": 28,
   "metadata": {},
   "outputs": [],
   "source": [
    "model = tf.keras.models.Sequential()\n",
    "model.add(keras.layers.Dense(N_HIDDEN,\n",
    "                            input_shape=(784,),\n",
    "                            name='dense_layer',\n",
    "                            activation='relu'))\n",
    "\n",
    "model.add(keras.layers.Dense(N_HIDDEN,\n",
    "                             name='dense_layer_2',\n",
    "                            activation='relu'))\n",
    "\n",
    "model.add(keras.layers.Dense(NB_CLASSES,\n",
    "                             name='dense_layer_3',\n",
    "                            activation='softmax'))"
   ]
  },
  {
   "cell_type": "code",
   "execution_count": 29,
   "metadata": {},
   "outputs": [
    {
     "name": "stdout",
     "output_type": "stream",
     "text": [
      "Model: \"sequential_1\"\n",
      "_________________________________________________________________\n",
      "Layer (type)                 Output Shape              Param #   \n",
      "=================================================================\n",
      "dense_layer (Dense)          (None, 128)               100480    \n",
      "_________________________________________________________________\n",
      "dense_layer_2 (Dense)        (None, 128)               16512     \n",
      "_________________________________________________________________\n",
      "dense_layer_3 (Dense)        (None, 10)                1290      \n",
      "=================================================================\n",
      "Total params: 118,282\n",
      "Trainable params: 118,282\n",
      "Non-trainable params: 0\n",
      "_________________________________________________________________\n"
     ]
    }
   ],
   "source": [
    "model.summary()"
   ]
  },
  {
   "cell_type": "code",
   "execution_count": 30,
   "metadata": {},
   "outputs": [],
   "source": [
    "model.compile(optimizer='SGD',\n",
    "             loss='categorical_crossentropy',\n",
    "             metrics=['accuracy'])"
   ]
  },
  {
   "cell_type": "code",
   "execution_count": 31,
   "metadata": {},
   "outputs": [
    {
     "name": "stdout",
     "output_type": "stream",
     "text": [
      "Train on 48000 samples, validate on 12000 samples\n",
      "Epoch 1/20\n",
      "48000/48000 [==============================] - 3s 73us/sample - loss: 1.4433 - accuracy: 0.6275 - val_loss: 0.7500 - val_accuracy: 0.8282\n",
      "Epoch 2/20\n",
      "48000/48000 [==============================] - 4s 74us/sample - loss: 0.6040 - accuracy: 0.8470 - val_loss: 0.4659 - val_accuracy: 0.8806\n",
      "Epoch 3/20\n",
      "48000/48000 [==============================] - 4s 89us/sample - loss: 0.4451 - accuracy: 0.8796 - val_loss: 0.3831 - val_accuracy: 0.8967\n",
      "Epoch 4/20\n",
      "48000/48000 [==============================] - 4s 87us/sample - loss: 0.3826 - accuracy: 0.8927 - val_loss: 0.3408 - val_accuracy: 0.9049\n",
      "Epoch 5/20\n",
      "48000/48000 [==============================] - 5s 98us/sample - loss: 0.3468 - accuracy: 0.9018 - val_loss: 0.3154 - val_accuracy: 0.9108\n",
      "Epoch 6/20\n",
      "48000/48000 [==============================] - 5s 101us/sample - loss: 0.3225 - accuracy: 0.9080 - val_loss: 0.2976 - val_accuracy: 0.9161\n",
      "Epoch 7/20\n",
      "48000/48000 [==============================] - 3s 63us/sample - loss: 0.3042 - accuracy: 0.9125 - val_loss: 0.2811 - val_accuracy: 0.9197\n",
      "Epoch 8/20\n",
      "48000/48000 [==============================] - 4s 75us/sample - loss: 0.2889 - accuracy: 0.9170 - val_loss: 0.2697 - val_accuracy: 0.9235\n",
      "Epoch 9/20\n",
      "48000/48000 [==============================] - 3s 70us/sample - loss: 0.2762 - accuracy: 0.9204 - val_loss: 0.2596 - val_accuracy: 0.9251\n",
      "Epoch 10/20\n",
      "48000/48000 [==============================] - 4s 86us/sample - loss: 0.2646 - accuracy: 0.9240 - val_loss: 0.2493 - val_accuracy: 0.9287\n",
      "Epoch 11/20\n",
      "48000/48000 [==============================] - 4s 85us/sample - loss: 0.2545 - accuracy: 0.9272 - val_loss: 0.2408 - val_accuracy: 0.9309\n",
      "Epoch 12/20\n",
      "48000/48000 [==============================] - 4s 87us/sample - loss: 0.2453 - accuracy: 0.9300 - val_loss: 0.2339 - val_accuracy: 0.9335\n",
      "Epoch 13/20\n",
      "48000/48000 [==============================] - 5s 101us/sample - loss: 0.2369 - accuracy: 0.9326 - val_loss: 0.2264 - val_accuracy: 0.9348\n",
      "Epoch 14/20\n",
      "48000/48000 [==============================] - 5s 105us/sample - loss: 0.2291 - accuracy: 0.9341 - val_loss: 0.2200 - val_accuracy: 0.9362\n",
      "Epoch 15/20\n",
      "48000/48000 [==============================] - 6s 120us/sample - loss: 0.2220 - accuracy: 0.9367 - val_loss: 0.2152 - val_accuracy: 0.9384\n",
      "Epoch 16/20\n",
      "48000/48000 [==============================] - 5s 112us/sample - loss: 0.2154 - accuracy: 0.9381 - val_loss: 0.2082 - val_accuracy: 0.9395\n",
      "Epoch 17/20\n",
      "48000/48000 [==============================] - 4s 77us/sample - loss: 0.2092 - accuracy: 0.9398 - val_loss: 0.2037 - val_accuracy: 0.9421\n",
      "Epoch 18/20\n",
      "48000/48000 [==============================] - 4s 82us/sample - loss: 0.2032 - accuracy: 0.9423 - val_loss: 0.1994 - val_accuracy: 0.9422\n",
      "Epoch 19/20\n",
      "48000/48000 [==============================] - 4s 85us/sample - loss: 0.1976 - accuracy: 0.9435 - val_loss: 0.1939 - val_accuracy: 0.9448\n",
      "Epoch 20/20\n",
      "48000/48000 [==============================] - 3s 70us/sample - loss: 0.1924 - accuracy: 0.9447 - val_loss: 0.1897 - val_accuracy: 0.9467\n"
     ]
    },
    {
     "data": {
      "text/plain": [
       "<tensorflow.python.keras.callbacks.History at 0x7f83f0140310>"
      ]
     },
     "execution_count": 31,
     "metadata": {},
     "output_type": "execute_result"
    }
   ],
   "source": [
    "model.fit(X_train, Y_train, batch_size=BATCH_SIZE, epochs=EPOCHS,validation_split=VALIDATION_SPLIT)"
   ]
  },
  {
   "cell_type": "markdown",
   "metadata": {},
   "source": [
    "Well, we are certainly increaing the accuracy on comapision with v_1"
   ]
  },
  {
   "cell_type": "code",
   "execution_count": 33,
   "metadata": {},
   "outputs": [
    {
     "name": "stdout",
     "output_type": "stream",
     "text": [
      "Test Accuracy: 0.9443\n"
     ]
    }
   ],
   "source": [
    "# test accuracy\n",
    "test_loss, test_acc= model.evaluate(X_test, Y_test, verbose=False)\n",
    "print(\"Test Accuracy:\", test_acc)"
   ]
  },
  {
   "cell_type": "code",
   "execution_count": null,
   "metadata": {},
   "outputs": [],
   "source": []
  }
 ],
 "metadata": {
  "kernelspec": {
   "display_name": "Python 3",
   "language": "python",
   "name": "python3"
  },
  "language_info": {
   "codemirror_mode": {
    "name": "ipython",
    "version": 3
   },
   "file_extension": ".py",
   "mimetype": "text/x-python",
   "name": "python",
   "nbconvert_exporter": "python",
   "pygments_lexer": "ipython3",
   "version": "3.7.4"
  }
 },
 "nbformat": 4,
 "nbformat_minor": 2
}
